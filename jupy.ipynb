{
 "cells": [
  {
   "cell_type": "code",
   "execution_count": null,
   "id": "dd976900-caf1-4e8f-91db-8e4ee4991dd0",
   "metadata": {},
   "outputs": [],
   "source": [
    "import numpy as np\n",
    "from scipy.special import ellipk\n",
    "import matplotlib.pyplot as plt\n",
    "from ipywidgets import interact, widgets\n",
    "\n",
    "def calculate_period(phi0, l):\n",
    "    g = 9.8  # acceleration due to gravity\n",
    "    T = 4 * np.sqrt(l / g) * ellipk(np.sin(phi0 / 2) ** 2)\n",
    "    return T\n",
    "\n",
    "def save_data(l_values, phi0_values):\n",
    "    for i, l in enumerate(l_values):\n",
    "        with open(f\"{i+1}.txt\", \"w\") as file:\n",
    "            file.write(f\"#l = {l}\\n\")\n",
    "            for phi0 in phi0_values:\n",
    "                T = calculate_period(phi0, l)\n",
    "                file.write(f\"{phi0} {T}\\n\")\n",
    "\n",
    "def plot_data(a, b, l_values):\n",
    "    phi0_values = np.linspace(a, b, 1000)\n",
    "    for i, l in enumerate(l_values):\n",
    "        T_values = [calculate_period(phi0, l) for phi0 in phi0_values]\n",
    "        plt.plot(phi0_values, T_values, label=f\"l = {l}\")\n",
    "    plt.xlabel(\"phi0\")\n",
    "    plt.ylabel(\"T\")\n",
    "    plt.legend()\n",
    "    plt.show()\n",
    "\n",
    "def calculate_and_save_data(a, b, z, l_values):\n",
    "    phi0_values = np.linspace(a, b, 1000)\n",
    "    save_data(l_values, phi0_values)\n",
    "    plot_data(a, b, l_values)\n",
    "\n",
    "a_widget = widgets.FloatSlider(min=0, max=10, step=0.1, value=0, description=\"a:\")\n",
    "b_widget = widgets.FloatSlider(min=0, max=10, step=0.1, value=1, description=\"b:\")\n",
    "z_widget = widgets.IntSlider(min=1, max=10, value=2, description=\"z:\")\n",
    "\n",
    "def button_clicked(a, b, z):\n",
    "    if z == 1:\n",
    "        l = float(input(\"Enter the value for l: \"))\n",
    "        l_values = [l]\n",
    "    else:\n",
    "        l_values = set()\n",
    "        while len(l_values) < z:\n",
    "            l = float(input(f\"Enter the value for l: \"))\n",
    "            l_values.add(l)\n",
    "            print(f\"{z-len(l_values)} to go\")\n",
    "    \n",
    "    calculate_and_save_data(a, b, z, list(l_values))\n",
    "\n",
    "interact(button_clicked, a=a_widget, b=b_widget, z=z_widget)"
   ]
  },
  {
   "cell_type": "code",
   "execution_count": null,
   "id": "e32531fe-912d-4f54-bd00-b6936973bfec",
   "metadata": {},
   "outputs": [],
   "source": []
  }
 ],
 "metadata": {
  "kernelspec": {
   "display_name": "anaconda-2022.05-py39",
   "language": "python",
   "name": "conda-env-anaconda-2022.05-py39-py"
  },
  "language_info": {
   "codemirror_mode": {
    "name": "ipython",
    "version": 3
   },
   "file_extension": ".py",
   "mimetype": "text/x-python",
   "name": "python",
   "nbconvert_exporter": "python",
   "pygments_lexer": "ipython3",
   "version": "3.9.12"
  }
 },
 "nbformat": 4,
 "nbformat_minor": 5
}
