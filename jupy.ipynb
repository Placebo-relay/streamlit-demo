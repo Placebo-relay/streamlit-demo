import numpy as np
from scipy.special import ellipk
import matplotlib.pyplot as plt
from ipywidgets import interact, widgets

def calculate_period(phi0, l):
    g = 9.8  # acceleration due to gravity
    T = 4 * np.sqrt(l / g) * ellipk(np.sin(phi0 / 2) ** 2)
    return T

def save_data(l_values, phi0_values):
    for i, l in enumerate(l_values):
        with open(f"{i+1}.txt", "w") as file:
            file.write(f"#l = {l}\n")
            for phi0 in phi0_values:
                T = calculate_period(phi0, l)
                file.write(f"{phi0} {T}\n")

def plot_data(a, b, l_values):
    phi0_values = np.linspace(a, b, 1000)
    for i, l in enumerate(l_values):
        T_values = [calculate_period(phi0, l) for phi0 in phi0_values]
        plt.plot(phi0_values, T_values, label=f"l = {l}")
    plt.xlabel("phi0")
    plt.ylabel("T")
    plt.legend()
    plt.show()

def calculate_and_save_data(a, b, z, l_values):
    phi0_values = np.linspace(a, b, 1000)
    save_data(l_values, phi0_values)
    plot_data(a, b, l_values)

a_widget = widgets.FloatSlider(min=0, max=10, step=0.1, value=0, description="a:")
b_widget = widgets.FloatSlider(min=0, max=10, step=0.1, value=1, description="b:")
z_widget = widgets.IntSlider(min=1, max=10, value=2, description="z:")

def button_clicked(a, b, z):
    if z == 1:
        l = float(input("Enter the value for l: "))
        l_values = [l]
    else:
        l_values = set()
        while len(l_values) < z:
            l = float(input(f"Enter the value for l: "))
            l_values.add(l)
            print(f"{z-len(l_values)} to go")
    
    calculate_and_save_data(a, b, z, list(l_values))

interact(button_clicked, a=a_widget, b=b_widget, z=z_widget)
